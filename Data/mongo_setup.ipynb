{
 "cells": [
  {
   "cell_type": "code",
   "execution_count": 3,
   "metadata": {},
   "outputs": [],
   "source": [
    "import pandas as pd\n",
    "import pymongo\n",
    "from pathlib import Path"
   ]
  },
  {
   "cell_type": "code",
   "execution_count": 4,
   "metadata": {},
   "outputs": [],
   "source": [
    "# setting the mongo connection \n",
    "conn = \"mongodb://localhost:27017\"\n",
    "client = pymongo.MongoClient(conn)"
   ]
  },
  {
   "cell_type": "code",
   "execution_count": 5,
   "metadata": {},
   "outputs": [],
   "source": [
    "#establishing the database\n",
    "db = client.green_spaces_and_health3"
   ]
  },
  {
   "cell_type": "code",
   "execution_count": 6,
   "metadata": {},
   "outputs": [],
   "source": [
    "#creating the collection within the database\n",
    "collection = db.green_spaces_and_health3"
   ]
  },
  {
   "cell_type": "code",
   "execution_count": 7,
   "metadata": {},
   "outputs": [],
   "source": [
    "# defining file path\n",
    "path = '..\\\\master_table_and_coords.csv'"
   ]
  },
  {
   "cell_type": "code",
   "execution_count": 8,
   "metadata": {},
   "outputs": [],
   "source": [
    "#making the dataframe\n",
    "data = pd.read_csv(path)"
   ]
  },
  {
   "cell_type": "code",
   "execution_count": 9,
   "metadata": {},
   "outputs": [
    {
     "name": "stdout",
     "output_type": "stream",
     "text": [
      "<class 'pandas.core.frame.DataFrame'>\n",
      "RangeIndex: 95 entries, 0 to 94\n",
      "Data columns (total 9 columns):\n",
      " #   Column                Non-Null Count  Dtype  \n",
      "---  ------                --------------  -----  \n",
      " 0   city                  95 non-null     object \n",
      " 1   state                 95 non-null     object \n",
      " 2   park_acres            95 non-null     int64  \n",
      " 3   percent_of_city_area  95 non-null     int64  \n",
      " 4   dv_data_value         95 non-null     float64\n",
      " 5   ob_data_value         95 non-null     float64\n",
      " 6   mh_data_value         95 non-null     float64\n",
      " 7   lat                   95 non-null     float64\n",
      " 8   lon                   95 non-null     float64\n",
      "dtypes: float64(5), int64(2), object(2)\n",
      "memory usage: 6.8+ KB\n"
     ]
    }
   ],
   "source": [
    "#See the columns and data type of the table\n",
    "data.info()"
   ]
  },
  {
   "cell_type": "code",
   "execution_count": 10,
   "metadata": {},
   "outputs": [
    {
     "data": {
      "text/html": [
       "<div>\n",
       "<style scoped>\n",
       "    .dataframe tbody tr th:only-of-type {\n",
       "        vertical-align: middle;\n",
       "    }\n",
       "\n",
       "    .dataframe tbody tr th {\n",
       "        vertical-align: top;\n",
       "    }\n",
       "\n",
       "    .dataframe thead th {\n",
       "        text-align: right;\n",
       "    }\n",
       "</style>\n",
       "<table border=\"1\" class=\"dataframe\">\n",
       "  <thead>\n",
       "    <tr style=\"text-align: right;\">\n",
       "      <th></th>\n",
       "      <th>city</th>\n",
       "      <th>state</th>\n",
       "      <th>park_acres</th>\n",
       "      <th>percent_of_city_area</th>\n",
       "      <th>dv_data_value</th>\n",
       "      <th>ob_data_value</th>\n",
       "      <th>mh_data_value</th>\n",
       "      <th>lat</th>\n",
       "      <th>lon</th>\n",
       "    </tr>\n",
       "  </thead>\n",
       "  <tbody>\n",
       "    <tr>\n",
       "      <th>0</th>\n",
       "      <td>Albuquerque</td>\n",
       "      <td>NM</td>\n",
       "      <td>22157</td>\n",
       "      <td>19</td>\n",
       "      <td>59.4</td>\n",
       "      <td>27.2</td>\n",
       "      <td>14.2</td>\n",
       "      <td>35.1054</td>\n",
       "      <td>-106.6465</td>\n",
       "    </tr>\n",
       "    <tr>\n",
       "      <th>1</th>\n",
       "      <td>Anaheim</td>\n",
       "      <td>CA</td>\n",
       "      <td>4584</td>\n",
       "      <td>14</td>\n",
       "      <td>66.2</td>\n",
       "      <td>23.0</td>\n",
       "      <td>12.6</td>\n",
       "      <td>33.8390</td>\n",
       "      <td>-117.8574</td>\n",
       "    </tr>\n",
       "    <tr>\n",
       "      <th>2</th>\n",
       "      <td>Anchorage</td>\n",
       "      <td>AK</td>\n",
       "      <td>871795</td>\n",
       "      <td>80</td>\n",
       "      <td>54.2</td>\n",
       "      <td>34.1</td>\n",
       "      <td>11.0</td>\n",
       "      <td>61.1508</td>\n",
       "      <td>-149.1091</td>\n",
       "    </tr>\n",
       "    <tr>\n",
       "      <th>3</th>\n",
       "      <td>Arlington</td>\n",
       "      <td>TX</td>\n",
       "      <td>4321</td>\n",
       "      <td>7</td>\n",
       "      <td>68.4</td>\n",
       "      <td>34.2</td>\n",
       "      <td>13.3</td>\n",
       "      <td>32.6998</td>\n",
       "      <td>-97.1250</td>\n",
       "    </tr>\n",
       "    <tr>\n",
       "      <th>4</th>\n",
       "      <td>Atlanta</td>\n",
       "      <td>GA</td>\n",
       "      <td>5530</td>\n",
       "      <td>6</td>\n",
       "      <td>73.9</td>\n",
       "      <td>31.1</td>\n",
       "      <td>12.0</td>\n",
       "      <td>33.7628</td>\n",
       "      <td>-84.4220</td>\n",
       "    </tr>\n",
       "    <tr>\n",
       "      <th>...</th>\n",
       "      <td>...</td>\n",
       "      <td>...</td>\n",
       "      <td>...</td>\n",
       "      <td>...</td>\n",
       "      <td>...</td>\n",
       "      <td>...</td>\n",
       "      <td>...</td>\n",
       "      <td>...</td>\n",
       "      <td>...</td>\n",
       "    </tr>\n",
       "    <tr>\n",
       "      <th>90</th>\n",
       "      <td>Tulsa</td>\n",
       "      <td>OK</td>\n",
       "      <td>8580</td>\n",
       "      <td>7</td>\n",
       "      <td>67.6</td>\n",
       "      <td>36.6</td>\n",
       "      <td>16.0</td>\n",
       "      <td>36.1283</td>\n",
       "      <td>-95.9042</td>\n",
       "    </tr>\n",
       "    <tr>\n",
       "      <th>91</th>\n",
       "      <td>Virginia Beach</td>\n",
       "      <td>VA</td>\n",
       "      <td>25993</td>\n",
       "      <td>17</td>\n",
       "      <td>72.1</td>\n",
       "      <td>28.4</td>\n",
       "      <td>11.7</td>\n",
       "      <td>36.7335</td>\n",
       "      <td>-76.0435</td>\n",
       "    </tr>\n",
       "    <tr>\n",
       "      <th>92</th>\n",
       "      <td>Washington</td>\n",
       "      <td>DC</td>\n",
       "      <td>9296</td>\n",
       "      <td>24</td>\n",
       "      <td>78.4</td>\n",
       "      <td>26.7</td>\n",
       "      <td>11.1</td>\n",
       "      <td>38.9047</td>\n",
       "      <td>-77.0163</td>\n",
       "    </tr>\n",
       "    <tr>\n",
       "      <th>93</th>\n",
       "      <td>Wichita</td>\n",
       "      <td>KS</td>\n",
       "      <td>4327</td>\n",
       "      <td>4</td>\n",
       "      <td>66.7</td>\n",
       "      <td>34.2</td>\n",
       "      <td>13.8</td>\n",
       "      <td>37.6895</td>\n",
       "      <td>-97.3443</td>\n",
       "    </tr>\n",
       "    <tr>\n",
       "      <th>94</th>\n",
       "      <td>Winston-Salem</td>\n",
       "      <td>NC</td>\n",
       "      <td>3797</td>\n",
       "      <td>4</td>\n",
       "      <td>72.6</td>\n",
       "      <td>34.4</td>\n",
       "      <td>14.3</td>\n",
       "      <td>36.1029</td>\n",
       "      <td>-80.2610</td>\n",
       "    </tr>\n",
       "  </tbody>\n",
       "</table>\n",
       "<p>95 rows × 9 columns</p>\n",
       "</div>"
      ],
      "text/plain": [
       "              city state  park_acres  percent_of_city_area  dv_data_value  \\\n",
       "0      Albuquerque    NM       22157                    19           59.4   \n",
       "1          Anaheim    CA        4584                    14           66.2   \n",
       "2        Anchorage    AK      871795                    80           54.2   \n",
       "3        Arlington    TX        4321                     7           68.4   \n",
       "4          Atlanta    GA        5530                     6           73.9   \n",
       "..             ...   ...         ...                   ...            ...   \n",
       "90           Tulsa    OK        8580                     7           67.6   \n",
       "91  Virginia Beach    VA       25993                    17           72.1   \n",
       "92      Washington    DC        9296                    24           78.4   \n",
       "93         Wichita    KS        4327                     4           66.7   \n",
       "94   Winston-Salem    NC        3797                     4           72.6   \n",
       "\n",
       "    ob_data_value  mh_data_value      lat       lon  \n",
       "0            27.2           14.2  35.1054 -106.6465  \n",
       "1            23.0           12.6  33.8390 -117.8574  \n",
       "2            34.1           11.0  61.1508 -149.1091  \n",
       "3            34.2           13.3  32.6998  -97.1250  \n",
       "4            31.1           12.0  33.7628  -84.4220  \n",
       "..            ...            ...      ...       ...  \n",
       "90           36.6           16.0  36.1283  -95.9042  \n",
       "91           28.4           11.7  36.7335  -76.0435  \n",
       "92           26.7           11.1  38.9047  -77.0163  \n",
       "93           34.2           13.8  37.6895  -97.3443  \n",
       "94           34.4           14.3  36.1029  -80.2610  \n",
       "\n",
       "[95 rows x 9 columns]"
      ]
     },
     "execution_count": 10,
     "metadata": {},
     "output_type": "execute_result"
    }
   ],
   "source": [
    "#dataframe\n",
    "data"
   ]
  },
  {
   "cell_type": "code",
   "execution_count": 13,
   "metadata": {},
   "outputs": [
    {
     "data": {
      "text/plain": [
       "<pymongo.results.InsertManyResult at 0x2978f161ac0>"
      ]
     },
     "execution_count": 13,
     "metadata": {},
     "output_type": "execute_result"
    }
   ],
   "source": [
    "#Inserting the data into the mongo database\n",
    "#YOU ONLY NEED TO RUN THIS ONE TIME\n",
    "db.green_spaces_and_health3.insert_many(data.to_dict('records'))"
   ]
  },
  {
   "cell_type": "code",
   "execution_count": 12,
   "metadata": {},
   "outputs": [
    {
     "name": "stdout",
     "output_type": "stream",
     "text": [
      "285 docs deleted\n"
     ]
    }
   ],
   "source": [
    "#USE THIS CODE BELOW IF THE FILE HAS BEEN RUN MORE THAN ONCE AND CAUSES DUPLICATES\n",
    "# x = db.green_spaces_and_health3.delete_many({})\n",
    "# print(x.deleted_count, \"docs deleted\")"
   ]
  },
  {
   "cell_type": "code",
   "execution_count": 18,
   "metadata": {},
   "outputs": [
    {
     "data": {
      "text/plain": [
       "<pymongo.results.DeleteResult at 0x29792ab2640>"
      ]
     },
     "execution_count": 18,
     "metadata": {},
     "output_type": "execute_result"
    }
   ],
   "source": [
    "#This is to drop Alaska from the dataset as it is an outlier\n",
    "col = db.green_spaces_and_health3\n",
    "\n",
    "x = { \"state\": \"AK\" }\n",
    "\n",
    "col.delete_one(x)\n"
   ]
  },
  {
   "cell_type": "code",
   "execution_count": 14,
   "metadata": {},
   "outputs": [
    {
     "name": "stdout",
     "output_type": "stream",
     "text": [
      "['AES', 'USPoliceShootingData', 'admin', 'classDB', 'config', 'epa', 'fruits_db', 'gardenDB', 'green_spaces_and_health', 'green_spaces_and_health2', 'green_spaces_and_health3', 'local', 'met', 'petsitly_marketing', 'test', 'travel_db', 'uk_foods']\n"
     ]
    }
   ],
   "source": [
    "#Listing the databases to ensure that it was made\n",
    "print(client.list_database_names())\n"
   ]
  },
  {
   "cell_type": "code",
   "execution_count": 15,
   "metadata": {},
   "outputs": [
    {
     "name": "stdout",
     "output_type": "stream",
     "text": [
      "['green_spaces_and_health3']\n"
     ]
    }
   ],
   "source": [
    "#making sure the collection is created\n",
    "print(db.list_collection_names())"
   ]
  },
  {
   "cell_type": "code",
   "execution_count": 19,
   "metadata": {},
   "outputs": [
    {
     "name": "stdout",
     "output_type": "stream",
     "text": [
      "{'_id': ObjectId('6535c408fed94e0d5e01bbf3'), 'city': 'Albuquerque', 'state': 'NM', 'park_acres': 22157, 'percent_of_city_area': 19, 'dv_data_value': 59.4, 'ob_data_value': 27.2, 'mh_data_value': 14.2, 'lat': 35.1054, 'lon': -106.6465}\n",
      "{'_id': ObjectId('6535c408fed94e0d5e01bbf4'), 'city': 'Anaheim', 'state': 'CA', 'park_acres': 4584, 'percent_of_city_area': 14, 'dv_data_value': 66.2, 'ob_data_value': 23.0, 'mh_data_value': 12.6, 'lat': 33.839, 'lon': -117.8574}\n",
      "{'_id': ObjectId('6535c408fed94e0d5e01bbf6'), 'city': 'Arlington', 'state': 'TX', 'park_acres': 4321, 'percent_of_city_area': 7, 'dv_data_value': 68.4, 'ob_data_value': 34.2, 'mh_data_value': 13.3, 'lat': 32.6998, 'lon': -97.125}\n",
      "{'_id': ObjectId('6535c408fed94e0d5e01bbf7'), 'city': 'Atlanta', 'state': 'GA', 'park_acres': 5530, 'percent_of_city_area': 6, 'dv_data_value': 73.9, 'ob_data_value': 31.1, 'mh_data_value': 12.0, 'lat': 33.7628, 'lon': -84.422}\n",
      "{'_id': ObjectId('6535c408fed94e0d5e01bbf8'), 'city': 'Aurora', 'state': 'CO', 'park_acres': 10409, 'percent_of_city_area': 10, 'dv_data_value': 63.2, 'ob_data_value': 26.8, 'mh_data_value': 12.7, 'lat': 39.7083, 'lon': -104.7237}\n",
      "{'_id': ObjectId('6535c408fed94e0d5e01bbf9'), 'city': 'Austin', 'state': 'TX', 'park_acres': 19069, 'percent_of_city_area': 11, 'dv_data_value': 65.5, 'ob_data_value': 26.5, 'mh_data_value': 11.6, 'lat': 30.3005, 'lon': -97.7522}\n",
      "{'_id': ObjectId('6535c408fed94e0d5e01bbfa'), 'city': 'Bakersfield', 'state': 'CA', 'park_acres': 5364, 'percent_of_city_area': 6, 'dv_data_value': 66.0, 'ob_data_value': 29.5, 'mh_data_value': 14.2, 'lat': 35.3529, 'lon': -119.0359}\n",
      "{'_id': ObjectId('6535c408fed94e0d5e01bbfb'), 'city': 'Baltimore', 'state': 'MD', 'park_acres': 5102, 'percent_of_city_area': 10, 'dv_data_value': 75.0, 'ob_data_value': 39.6, 'mh_data_value': 15.7, 'lat': 39.3051, 'lon': -76.6144}\n",
      "{'_id': ObjectId('6535c408fed94e0d5e01bbfc'), 'city': 'Baton Rouge', 'state': 'LA', 'park_acres': 1455, 'percent_of_city_area': 3, 'dv_data_value': 74.9, 'ob_data_value': 37.7, 'mh_data_value': 16.6, 'lat': 30.442, 'lon': -91.1311}\n",
      "{'_id': ObjectId('6535c408fed94e0d5e01bbfd'), 'city': 'Boston', 'state': 'MA', 'park_acres': 5160, 'percent_of_city_area': 18, 'dv_data_value': 74.7, 'ob_data_value': 26.7, 'mh_data_value': 13.7, 'lat': 42.3188, 'lon': -71.0852}\n",
      "{'_id': ObjectId('6535c408fed94e0d5e01bbfe'), 'city': 'Buffalo', 'state': 'NY', 'park_acres': 2383, 'percent_of_city_area': 9, 'dv_data_value': 75.8, 'ob_data_value': 36.3, 'mh_data_value': 16.3, 'lat': 42.9018, 'lon': -78.8487}\n",
      "{'_id': ObjectId('6535c408fed94e0d5e01bbff'), 'city': 'Chandler', 'state': 'AZ', 'park_acres': 1518, 'percent_of_city_area': 4, 'dv_data_value': 67.1, 'ob_data_value': 25.9, 'mh_data_value': 11.2, 'lat': 33.2825, 'lon': -111.8514}\n",
      "{'_id': ObjectId('6535c408fed94e0d5e01bc00'), 'city': 'Chesapeake', 'state': 'VA', 'park_acres': 58693, 'percent_of_city_area': 27, 'dv_data_value': 75.2, 'ob_data_value': 35.0, 'mh_data_value': 12.6, 'lat': 36.6778, 'lon': -76.3023}\n",
      "{'_id': ObjectId('6535c408fed94e0d5e01bc01'), 'city': 'Chicago', 'state': 'IL', 'park_acres': 13866, 'percent_of_city_area': 10, 'dv_data_value': 69.2, 'ob_data_value': 33.0, 'mh_data_value': 12.7, 'lat': 41.8375, 'lon': -87.6866}\n",
      "{'_id': ObjectId('6535c408fed94e0d5e01bc02'), 'city': 'Chula Vista', 'state': 'CA', 'park_acres': 2482, 'percent_of_city_area': 8, 'dv_data_value': 67.8, 'ob_data_value': 24.1, 'mh_data_value': 11.7, 'lat': 32.6281, 'lon': -117.0144}\n",
      "{'_id': ObjectId('6535c408fed94e0d5e01bc03'), 'city': 'Cincinnati', 'state': 'OH', 'park_acres': 8057, 'percent_of_city_area': 17, 'dv_data_value': 74.5, 'ob_data_value': 37.8, 'mh_data_value': 16.0, 'lat': 39.1413, 'lon': -84.506}\n",
      "{'_id': ObjectId('6535c408fed94e0d5e01bc04'), 'city': 'Cleveland', 'state': 'OH', 'park_acres': 3311, 'percent_of_city_area': 7, 'dv_data_value': 75.4, 'ob_data_value': 41.2, 'mh_data_value': 18.2, 'lat': 41.4764, 'lon': -81.6805}\n",
      "{'_id': ObjectId('6535c408fed94e0d5e01bc05'), 'city': 'Colorado Springs', 'state': 'CO', 'park_acres': 14785, 'percent_of_city_area': 12, 'dv_data_value': 62.1, 'ob_data_value': 23.3, 'mh_data_value': 12.6, 'lat': 38.8674, 'lon': -104.7605}\n",
      "{'_id': ObjectId('6535c408fed94e0d5e01bc06'), 'city': 'Columbus', 'state': 'OH', 'park_acres': 14513, 'percent_of_city_area': 11, 'dv_data_value': 73.5, 'ob_data_value': 35.7, 'mh_data_value': 15.0, 'lat': 39.9862, 'lon': -82.9855}\n",
      "{'_id': ObjectId('6535c408fed94e0d5e01bc07'), 'city': 'Corpus Christi', 'state': 'TX', 'park_acres': 7077, 'percent_of_city_area': 7, 'dv_data_value': 67.4, 'ob_data_value': 34.9, 'mh_data_value': 13.4, 'lat': 27.7254, 'lon': -97.3767}\n",
      "{'_id': ObjectId('6535c408fed94e0d5e01bc08'), 'city': 'Dallas', 'state': 'TX', 'park_acres': 20835, 'percent_of_city_area': 10, 'dv_data_value': 68.1, 'ob_data_value': 35.2, 'mh_data_value': 14.1, 'lat': 32.7935, 'lon': -96.7667}\n",
      "{'_id': ObjectId('6535c408fed94e0d5e01bc09'), 'city': 'Denver', 'state': 'CO', 'park_acres': 7028, 'percent_of_city_area': 9, 'dv_data_value': 58.4, 'ob_data_value': 21.4, 'mh_data_value': 11.4, 'lat': 39.762, 'lon': -104.8758}\n",
      "{'_id': ObjectId('6535c408fed94e0d5e01bc0a'), 'city': 'Detroit', 'state': 'MI', 'park_acres': 5134, 'percent_of_city_area': 6, 'dv_data_value': 78.6, 'ob_data_value': 44.9, 'mh_data_value': 18.7, 'lat': 42.3834, 'lon': -83.1024}\n",
      "{'_id': ObjectId('6535c408fed94e0d5e01bc0b'), 'city': 'Durham', 'state': 'NC', 'park_acres': 2755, 'percent_of_city_area': 4, 'dv_data_value': 74.1, 'ob_data_value': 32.2, 'mh_data_value': 12.6, 'lat': 35.9792, 'lon': -78.9022}\n",
      "{'_id': ObjectId('6535c408fed94e0d5e01bc0c'), 'city': 'El Paso', 'state': 'TX', 'park_acres': 30012, 'percent_of_city_area': 18, 'dv_data_value': 65.5, 'ob_data_value': 35.7, 'mh_data_value': 13.2, 'lat': 31.8476, 'lon': -106.43}\n",
      "{'_id': ObjectId('6535c408fed94e0d5e01bc0d'), 'city': 'Fort Worth', 'state': 'TX', 'park_acres': 13156, 'percent_of_city_area': 6, 'dv_data_value': 68.2, 'ob_data_value': 36.0, 'mh_data_value': 13.9, 'lat': 32.7817, 'lon': -97.3474}\n",
      "{'_id': ObjectId('6535c408fed94e0d5e01bc0e'), 'city': 'Fremont', 'state': 'CA', 'park_acres': 21957, 'percent_of_city_area': 44, 'dv_data_value': 65.5, 'ob_data_value': 16.5, 'mh_data_value': 8.4, 'lat': 37.5265, 'lon': -121.9843}\n",
      "{'_id': ObjectId('6535c408fed94e0d5e01bc0f'), 'city': 'Fresno', 'state': 'CA', 'park_acres': 3429, 'percent_of_city_area': 5, 'dv_data_value': 64.6, 'ob_data_value': 31.2, 'mh_data_value': 14.8, 'lat': 36.783, 'lon': -119.7939}\n",
      "{'_id': ObjectId('6535c408fed94e0d5e01bc10'), 'city': 'Garland', 'state': 'TX', 'park_acres': 2951, 'percent_of_city_area': 8, 'dv_data_value': 67.1, 'ob_data_value': 32.0, 'mh_data_value': 13.9, 'lat': 32.91, 'lon': -96.6304}\n",
      "{'_id': ObjectId('6535c408fed94e0d5e01bc11'), 'city': 'Gilbert', 'state': 'AZ', 'park_acres': 1284, 'percent_of_city_area': 3, 'dv_data_value': 66.9, 'ob_data_value': 25.0, 'mh_data_value': 10.9, 'lat': 33.31, 'lon': -111.7463}\n",
      "{'_id': ObjectId('6535c408fed94e0d5e01bc12'), 'city': 'Glendale', 'state': 'AZ', 'park_acres': 2100, 'percent_of_city_area': 5, 'dv_data_value': 66.4, 'ob_data_value': 31.0, 'mh_data_value': 14.2, 'lat': 33.5791, 'lon': -112.2311}\n",
      "{'_id': ObjectId('6535c408fed94e0d5e01bc13'), 'city': 'Greensboro', 'state': 'NC', 'park_acres': 8795, 'percent_of_city_area': 10, 'dv_data_value': 74.1, 'ob_data_value': 34.0, 'mh_data_value': 13.5, 'lat': 36.0956, 'lon': -79.8271}\n",
      "{'_id': ObjectId('6535c408fed94e0d5e01bc14'), 'city': 'Henderson', 'state': 'NV', 'park_acres': 5504, 'percent_of_city_area': 8, 'dv_data_value': 65.8, 'ob_data_value': 24.4, 'mh_data_value': 12.3, 'lat': 36.0133, 'lon': -115.0381}\n",
      "{'_id': ObjectId('6535c408fed94e0d5e01bc15'), 'city': 'Hialeah', 'state': 'FL', 'park_acres': 238, 'percent_of_city_area': 2, 'dv_data_value': 71.0, 'ob_data_value': 34.2, 'mh_data_value': 15.6, 'lat': 25.8696, 'lon': -80.3045}\n",
      "{'_id': ObjectId('6535c408fed94e0d5e01bc16'), 'city': 'Honolulu', 'state': 'HI', 'park_acres': 64795, 'percent_of_city_area': 17, 'dv_data_value': 71.3, 'ob_data_value': 23.8, 'mh_data_value': 10.5, 'lat': 21.3294, 'lon': -157.846}\n",
      "{'_id': ObjectId('6535c408fed94e0d5e01bc17'), 'city': 'Houston', 'state': 'TX', 'park_acres': 43486, 'percent_of_city_area': 12, 'dv_data_value': 69.5, 'ob_data_value': 34.4, 'mh_data_value': 13.4, 'lat': 29.786, 'lon': -95.3885}\n",
      "{'_id': ObjectId('6535c408fed94e0d5e01bc18'), 'city': 'Irvine', 'state': 'CA', 'park_acres': 11008, 'percent_of_city_area': 26, 'dv_data_value': 67.7, 'ob_data_value': 16.1, 'mh_data_value': 9.2, 'lat': 33.6772, 'lon': -117.7738}\n",
      "{'_id': ObjectId('6535c408fed94e0d5e01bc19'), 'city': 'Irving', 'state': 'TX', 'park_acres': 1988, 'percent_of_city_area': 5, 'dv_data_value': 67.2, 'ob_data_value': 30.5, 'mh_data_value': 12.8, 'lat': 32.8583, 'lon': -96.9702}\n",
      "{'_id': ObjectId('6535c408fed94e0d5e01bc1a'), 'city': 'Jacksonville', 'state': 'FL', 'park_acres': 84324, 'percent_of_city_area': 18, 'dv_data_value': 73.2, 'ob_data_value': 32.7, 'mh_data_value': 14.4, 'lat': 30.3322, 'lon': -81.6749}\n",
      "{'_id': ObjectId('6535c408fed94e0d5e01bc1b'), 'city': 'Jersey City', 'state': 'NJ', 'park_acres': 1091, 'percent_of_city_area': 12, 'dv_data_value': 76.5, 'ob_data_value': 27.9, 'mh_data_value': 12.6, 'lat': 40.7184, 'lon': -74.0686}\n",
      "{'_id': ObjectId('6535c408fed94e0d5e01bc1c'), 'city': 'Kansas City', 'state': 'MO', 'park_acres': 18816, 'percent_of_city_area': 10, 'dv_data_value': 70.8, 'ob_data_value': 35.7, 'mh_data_value': 14.2, 'lat': 39.1238, 'lon': -94.5541}\n",
      "{'_id': ObjectId('6535c408fed94e0d5e01bc1d'), 'city': 'Laredo', 'state': 'TX', 'park_acres': 2432, 'percent_of_city_area': 4, 'dv_data_value': 65.9, 'ob_data_value': 42.8, 'mh_data_value': 15.1, 'lat': 27.5625, 'lon': -99.4874}\n",
      "{'_id': ObjectId('6535c408fed94e0d5e01bc1e'), 'city': 'Las Vegas', 'state': 'NV', 'park_acres': 16010, 'percent_of_city_area': 18, 'dv_data_value': 66.0, 'ob_data_value': 28.0, 'mh_data_value': 13.9, 'lat': 36.2333, 'lon': -115.2654}\n",
      "{'_id': ObjectId('6535c408fed94e0d5e01bc1f'), 'city': 'Lincoln', 'state': 'NE', 'park_acres': 3808, 'percent_of_city_area': 6, 'dv_data_value': 64.2, 'ob_data_value': 31.4, 'mh_data_value': 10.9, 'lat': 40.8099, 'lon': -96.6784}\n",
      "{'_id': ObjectId('6535c408fed94e0d5e01bc20'), 'city': 'Long Beach', 'state': 'CA', 'park_acres': 3034, 'percent_of_city_area': 10, 'dv_data_value': 67.5, 'ob_data_value': 25.2, 'mh_data_value': 12.7, 'lat': 33.7977, 'lon': -118.167}\n",
      "{'_id': ObjectId('6535c408fed94e0d5e01bc21'), 'city': 'Los Angeles', 'state': 'CA', 'park_acres': 39626, 'percent_of_city_area': 13, 'dv_data_value': 66.9, 'ob_data_value': 25.6, 'mh_data_value': 12.8, 'lat': 34.1141, 'lon': -118.4068}\n",
      "{'_id': ObjectId('6535c408fed94e0d5e01bc22'), 'city': 'Louisville', 'state': 'KY', 'park_acres': 17922, 'percent_of_city_area': 9, 'dv_data_value': 75.3, 'ob_data_value': 34.5, 'mh_data_value': 14.9, 'lat': 38.1663, 'lon': -85.6485}\n",
      "{'_id': ObjectId('6535c408fed94e0d5e01bc23'), 'city': 'Lubbock', 'state': 'TX', 'park_acres': 2228, 'percent_of_city_area': 3, 'dv_data_value': 65.4, 'ob_data_value': 35.6, 'mh_data_value': 14.1, 'lat': 33.5657, 'lon': -101.8879}\n",
      "{'_id': ObjectId('6535c408fed94e0d5e01bc24'), 'city': 'Madison', 'state': 'WI', 'park_acres': 7145, 'percent_of_city_area': 14, 'dv_data_value': 65.8, 'ob_data_value': 27.5, 'mh_data_value': 10.8, 'lat': 43.0822, 'lon': -89.393}\n",
      "{'_id': ObjectId('6535c408fed94e0d5e01bc25'), 'city': 'Memphis', 'state': 'TN', 'park_acres': 11163, 'percent_of_city_area': 6, 'dv_data_value': 73.1, 'ob_data_value': 38.9, 'mh_data_value': 15.8, 'lat': 35.1087, 'lon': -89.9663}\n",
      "{'_id': ObjectId('6535c408fed94e0d5e01bc26'), 'city': 'Mesa', 'state': 'AZ', 'park_acres': 2470, 'percent_of_city_area': 3, 'dv_data_value': 66.2, 'ob_data_value': 29.7, 'mh_data_value': 13.5, 'lat': 33.4015, 'lon': -111.7178}\n",
      "{'_id': ObjectId('6535c408fed94e0d5e01bc27'), 'city': 'Miami', 'state': 'FL', 'park_acres': 1639, 'percent_of_city_area': 7, 'dv_data_value': 72.6, 'ob_data_value': 33.4, 'mh_data_value': 15.0, 'lat': 25.784, 'lon': -80.2101}\n",
      "{'_id': ObjectId('6535c408fed94e0d5e01bc28'), 'city': 'Milwaukee', 'state': 'WI', 'park_acres': 5591, 'percent_of_city_area': 9, 'dv_data_value': 73.6, 'ob_data_value': 36.2, 'mh_data_value': 15.3, 'lat': 43.0642, 'lon': -87.9675}\n",
      "{'_id': ObjectId('6535c408fed94e0d5e01bc29'), 'city': 'Minneapolis', 'state': 'MN', 'park_acres': 5078, 'percent_of_city_area': 15, 'dv_data_value': 69.1, 'ob_data_value': 27.5, 'mh_data_value': 10.7, 'lat': 44.9635, 'lon': -93.2678}\n",
      "{'_id': ObjectId('6535c408fed94e0d5e01bc2a'), 'city': 'New Orleans', 'state': 'LA', 'park_acres': 24737, 'percent_of_city_area': 23, 'dv_data_value': 73.0, 'ob_data_value': 36.1, 'mh_data_value': 15.5, 'lat': 30.0687, 'lon': -89.9288}\n",
      "{'_id': ObjectId('6535c408fed94e0d5e01bc2b'), 'city': 'New York', 'state': 'NY', 'park_acres': 39796, 'percent_of_city_area': 21, 'dv_data_value': 74.3, 'ob_data_value': 24.7, 'mh_data_value': 12.9, 'lat': 40.6943, 'lon': -73.9249}\n",
      "{'_id': ObjectId('6535c408fed94e0d5e01bc2c'), 'city': 'Newark', 'state': 'NJ', 'park_acres': 851, 'percent_of_city_area': 6, 'dv_data_value': 76.7, 'ob_data_value': 39.2, 'mh_data_value': 16.4, 'lat': 40.7245, 'lon': -74.1725}\n",
      "{'_id': ObjectId('6535c408fed94e0d5e01bc2d'), 'city': 'Norfolk', 'state': 'VA', 'park_acres': 1792, 'percent_of_city_area': 5, 'dv_data_value': 74.4, 'ob_data_value': 35.9, 'mh_data_value': 13.8, 'lat': 36.8945, 'lon': -76.259}\n",
      "{'_id': ObjectId('6535c408fed94e0d5e01bc2e'), 'city': 'North Las Vegas', 'state': 'NV', 'park_acres': 16705, 'percent_of_city_area': 26, 'dv_data_value': 67.1, 'ob_data_value': 29.6, 'mh_data_value': 14.4, 'lat': 36.2883, 'lon': -115.0888}\n",
      "{'_id': ObjectId('6535c408fed94e0d5e01bc2f'), 'city': 'Oakland', 'state': 'CA', 'park_acres': 4927, 'percent_of_city_area': 15, 'dv_data_value': 66.3, 'ob_data_value': 26.7, 'mh_data_value': 12.4, 'lat': 37.7904, 'lon': -122.2166}\n",
      "{'_id': ObjectId('6535c408fed94e0d5e01bc30'), 'city': 'Oklahoma City', 'state': 'OK', 'park_acres': 18588, 'percent_of_city_area': 5, 'dv_data_value': 67.0, 'ob_data_value': 34.4, 'mh_data_value': 15.4, 'lat': 35.4676, 'lon': -97.5136}\n",
      "{'_id': ObjectId('6535c408fed94e0d5e01bc31'), 'city': 'Omaha', 'state': 'NE', 'park_acres': 10336, 'percent_of_city_area': 12, 'dv_data_value': 67.5, 'ob_data_value': 34.0, 'mh_data_value': 12.1, 'lat': 41.2627, 'lon': -96.0529}\n",
      "{'_id': ObjectId('6535c408fed94e0d5e01bc32'), 'city': 'Orlando', 'state': 'FL', 'park_acres': 3411, 'percent_of_city_area': 5, 'dv_data_value': 72.2, 'ob_data_value': 30.5, 'mh_data_value': 14.0, 'lat': 28.4773, 'lon': -81.337}\n",
      "{'_id': ObjectId('6535c408fed94e0d5e01bc33'), 'city': 'Philadelphia', 'state': 'PA', 'park_acres': 10797, 'percent_of_city_area': 13, 'dv_data_value': 74.0, 'ob_data_value': 34.1, 'mh_data_value': 16.1, 'lat': 40.0077, 'lon': -75.1339}\n",
      "{'_id': ObjectId('6535c408fed94e0d5e01bc34'), 'city': 'Phoenix', 'state': 'AZ', 'park_acres': 51020, 'percent_of_city_area': 16, 'dv_data_value': 66.4, 'ob_data_value': 31.0, 'mh_data_value': 13.9, 'lat': 33.5722, 'lon': -112.0892}\n",
      "{'_id': ObjectId('6535c408fed94e0d5e01bc35'), 'city': 'Pittsburgh', 'state': 'PA', 'park_acres': 4975, 'percent_of_city_area': 14, 'dv_data_value': 71.5, 'ob_data_value': 31.9, 'mh_data_value': 13.9, 'lat': 40.4397, 'lon': -79.9763}\n",
      "{'_id': ObjectId('6535c408fed94e0d5e01bc36'), 'city': 'Plano', 'state': 'TX', 'park_acres': 4588, 'percent_of_city_area': 10, 'dv_data_value': 67.1, 'ob_data_value': 26.7, 'mh_data_value': 9.9, 'lat': 33.0502, 'lon': -96.7486}\n",
      "{'_id': ObjectId('6535c408fed94e0d5e01bc37'), 'city': 'Portland', 'state': 'OR', 'park_acres': 14662, 'percent_of_city_area': 18, 'dv_data_value': 59.3, 'ob_data_value': 25.1, 'mh_data_value': 13.6, 'lat': 45.5371, 'lon': -122.65}\n",
      "{'_id': ObjectId('6535c408fed94e0d5e01bc38'), 'city': 'Raleigh', 'state': 'NC', 'park_acres': 11804, 'percent_of_city_area': 12, 'dv_data_value': 75.4, 'ob_data_value': 31.5, 'mh_data_value': 11.8, 'lat': 35.8324, 'lon': -78.6429}\n",
      "{'_id': ObjectId('6535c408fed94e0d5e01bc39'), 'city': 'Reno', 'state': 'NV', 'park_acres': 3390, 'percent_of_city_area': 5, 'dv_data_value': 63.1, 'ob_data_value': 24.6, 'mh_data_value': 14.0, 'lat': 39.5497, 'lon': -119.8483}\n",
      "{'_id': ObjectId('6535c408fed94e0d5e01bc3a'), 'city': 'Richmond', 'state': 'VA', 'park_acres': 2755, 'percent_of_city_area': 7, 'dv_data_value': 72.8, 'ob_data_value': 35.8, 'mh_data_value': 14.3, 'lat': 37.5295, 'lon': -77.4756}\n",
      "{'_id': ObjectId('6535c408fed94e0d5e01bc3b'), 'city': 'Riverside', 'state': 'CA', 'park_acres': 3976, 'percent_of_city_area': 8, 'dv_data_value': 66.2, 'ob_data_value': 28.9, 'mh_data_value': 13.9, 'lat': 33.9381, 'lon': -117.3949}\n",
      "{'_id': ObjectId('6535c408fed94e0d5e01bc3c'), 'city': 'Sacramento', 'state': 'CA', 'park_acres': 6747, 'percent_of_city_area': 11, 'dv_data_value': 67.2, 'ob_data_value': 30.7, 'mh_data_value': 13.5, 'lat': 38.5677, 'lon': -121.4685}\n",
      "{'_id': ObjectId('6535c408fed94e0d5e01bc3d'), 'city': 'San Antonio', 'state': 'TX', 'park_acres': 32001, 'percent_of_city_area': 10, 'dv_data_value': 64.3, 'ob_data_value': 35.0, 'mh_data_value': 13.6, 'lat': 29.4632, 'lon': -98.5238}\n",
      "{'_id': ObjectId('6535c408fed94e0d5e01bc3e'), 'city': 'San Diego', 'state': 'CA', 'park_acres': 40122, 'percent_of_city_area': 19, 'dv_data_value': 67.8, 'ob_data_value': 22.4, 'mh_data_value': 11.3, 'lat': 32.8313, 'lon': -117.1222}\n",
      "{'_id': ObjectId('6535c408fed94e0d5e01bc3f'), 'city': 'San Francisco', 'state': 'CA', 'park_acres': 6164, 'percent_of_city_area': 21, 'dv_data_value': 67.3, 'ob_data_value': 17.9, 'mh_data_value': 10.2, 'lat': 37.7558, 'lon': -122.4449}\n",
      "{'_id': ObjectId('6535c408fed94e0d5e01bc40'), 'city': 'San Jose', 'state': 'CA', 'park_acres': 15221, 'percent_of_city_area': 14, 'dv_data_value': 62.9, 'ob_data_value': 20.1, 'mh_data_value': 10.3, 'lat': 37.3012, 'lon': -121.848}\n",
      "{'_id': ObjectId('6535c408fed94e0d5e01bc41'), 'city': 'Santa Ana', 'state': 'CA', 'park_acres': 600, 'percent_of_city_area': 3, 'dv_data_value': 65.3, 'ob_data_value': 26.3, 'mh_data_value': 14.4, 'lat': 33.7367, 'lon': -117.8819}\n",
      "{'_id': ObjectId('6535c408fed94e0d5e01bc42'), 'city': 'Santa Clarita', 'state': 'CA', 'park_acres': 9723, 'percent_of_city_area': 21, 'dv_data_value': 66.5, 'ob_data_value': 22.1, 'mh_data_value': 11.3, 'lat': 34.4175, 'lon': -118.4964}\n",
      "{'_id': ObjectId('6535c408fed94e0d5e01bc43'), 'city': 'Scottsdale', 'state': 'AZ', 'park_acres': 31598, 'percent_of_city_area': 27, 'dv_data_value': 66.7, 'ob_data_value': 24.5, 'mh_data_value': 10.5, 'lat': 33.6872, 'lon': -111.8651}\n",
      "{'_id': ObjectId('6535c408fed94e0d5e01bc44'), 'city': 'Seattle', 'state': 'WA', 'park_acres': 6480, 'percent_of_city_area': 12, 'dv_data_value': 63.5, 'ob_data_value': 21.1, 'mh_data_value': 11.2, 'lat': 47.6211, 'lon': -122.3244}\n",
      "{'_id': ObjectId('6535c408fed94e0d5e01bc45'), 'city': 'Spokane', 'state': 'WA', 'park_acres': 3670, 'percent_of_city_area': 9, 'dv_data_value': 62.1, 'ob_data_value': 30.1, 'mh_data_value': 15.2, 'lat': 47.6671, 'lon': -117.433}\n",
      "{'_id': ObjectId('6535c408fed94e0d5e01bc46'), 'city': 'St. Louis', 'state': 'MO', 'park_acres': 3889, 'percent_of_city_area': 10, 'dv_data_value': 74.7, 'ob_data_value': 36.4, 'mh_data_value': 14.9, 'lat': 38.6359, 'lon': -90.2451}\n",
      "{'_id': ObjectId('6535c408fed94e0d5e01bc47'), 'city': 'St. Paul', 'state': 'MN', 'park_acres': 4973, 'percent_of_city_area': 15, 'dv_data_value': 69.3, 'ob_data_value': 28.6, 'mh_data_value': 12.0, 'lat': 44.9478, 'lon': -93.1039}\n",
      "{'_id': ObjectId('6535c408fed94e0d5e01bc48'), 'city': 'St. Petersburg', 'state': 'FL', 'park_acres': 5343, 'percent_of_city_area': 14, 'dv_data_value': 72.5, 'ob_data_value': 29.7, 'mh_data_value': 14.4, 'lat': 27.7931, 'lon': -82.6652}\n",
      "{'_id': ObjectId('6535c408fed94e0d5e01bc49'), 'city': 'Stockton', 'state': 'CA', 'park_acres': 1199, 'percent_of_city_area': 3, 'dv_data_value': 68.3, 'ob_data_value': 31.7, 'mh_data_value': 14.4, 'lat': 37.9765, 'lon': -121.3109}\n",
      "{'_id': ObjectId('6535c408fed94e0d5e01bc4a'), 'city': 'Tampa', 'state': 'FL', 'park_acres': 5045, 'percent_of_city_area': 7, 'dv_data_value': 73.4, 'ob_data_value': 31.2, 'mh_data_value': 14.8, 'lat': 27.9945, 'lon': -82.4447}\n",
      "{'_id': ObjectId('6535c408fed94e0d5e01bc4b'), 'city': 'Toledo', 'state': 'OH', 'park_acres': 2995, 'percent_of_city_area': 6, 'dv_data_value': 74.4, 'ob_data_value': 43.8, 'mh_data_value': 16.8, 'lat': 41.6638, 'lon': -83.5827}\n",
      "{'_id': ObjectId('6535c408fed94e0d5e01bc4c'), 'city': 'Tucson', 'state': 'AZ', 'park_acres': 6195, 'percent_of_city_area': 4, 'dv_data_value': 64.7, 'ob_data_value': 29.7, 'mh_data_value': 14.4, 'lat': 32.1541, 'lon': -110.8787}\n",
      "{'_id': ObjectId('6535c408fed94e0d5e01bc4d'), 'city': 'Tulsa', 'state': 'OK', 'park_acres': 8580, 'percent_of_city_area': 7, 'dv_data_value': 67.6, 'ob_data_value': 36.6, 'mh_data_value': 16.0, 'lat': 36.1283, 'lon': -95.9042}\n",
      "{'_id': ObjectId('6535c408fed94e0d5e01bc4e'), 'city': 'Virginia Beach', 'state': 'VA', 'park_acres': 25993, 'percent_of_city_area': 17, 'dv_data_value': 72.1, 'ob_data_value': 28.4, 'mh_data_value': 11.7, 'lat': 36.7335, 'lon': -76.0435}\n",
      "{'_id': ObjectId('6535c408fed94e0d5e01bc4f'), 'city': 'Washington', 'state': 'DC', 'park_acres': 9296, 'percent_of_city_area': 24, 'dv_data_value': 78.4, 'ob_data_value': 26.7, 'mh_data_value': 11.1, 'lat': 38.9047, 'lon': -77.0163}\n",
      "{'_id': ObjectId('6535c408fed94e0d5e01bc50'), 'city': 'Wichita', 'state': 'KS', 'park_acres': 4327, 'percent_of_city_area': 4, 'dv_data_value': 66.7, 'ob_data_value': 34.2, 'mh_data_value': 13.8, 'lat': 37.6895, 'lon': -97.3443}\n",
      "{'_id': ObjectId('6535c408fed94e0d5e01bc51'), 'city': 'Winston-Salem', 'state': 'NC', 'park_acres': 3797, 'percent_of_city_area': 4, 'dv_data_value': 72.6, 'ob_data_value': 34.4, 'mh_data_value': 14.3, 'lat': 36.1029, 'lon': -80.261}\n"
     ]
    }
   ],
   "source": [
    "#Ensuring all the data is imported\n",
    "for x in collection.find():\n",
    "    print(x)"
   ]
  }
 ],
 "metadata": {
  "kernelspec": {
   "display_name": "dev",
   "language": "python",
   "name": "python3"
  },
  "language_info": {
   "codemirror_mode": {
    "name": "ipython",
    "version": 3
   },
   "file_extension": ".py",
   "mimetype": "text/x-python",
   "name": "python",
   "nbconvert_exporter": "python",
   "pygments_lexer": "ipython3",
   "version": "3.10.12"
  }
 },
 "nbformat": 4,
 "nbformat_minor": 2
}
