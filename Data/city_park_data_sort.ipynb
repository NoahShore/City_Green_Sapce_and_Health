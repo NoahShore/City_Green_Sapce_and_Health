{
 "cells": [
  {
   "cell_type": "code",
   "execution_count": 2,
   "metadata": {},
   "outputs": [],
   "source": [
    "import pandas as pd"
   ]
  },
  {
   "cell_type": "code",
   "execution_count": 3,
   "metadata": {},
   "outputs": [
    {
     "data": {
      "text/html": [
       "<div>\n",
       "<style scoped>\n",
       "    .dataframe tbody tr th:only-of-type {\n",
       "        vertical-align: middle;\n",
       "    }\n",
       "\n",
       "    .dataframe tbody tr th {\n",
       "        vertical-align: top;\n",
       "    }\n",
       "\n",
       "    .dataframe thead th {\n",
       "        text-align: right;\n",
       "    }\n",
       "</style>\n",
       "<table border=\"1\" class=\"dataframe\">\n",
       "  <thead>\n",
       "    <tr style=\"text-align: right;\">\n",
       "      <th></th>\n",
       "      <th>City</th>\n",
       "      <th>City Adj. Land Area</th>\n",
       "      <th>Park Acres</th>\n",
       "      <th>% of City Area</th>\n",
       "    </tr>\n",
       "  </thead>\n",
       "  <tbody>\n",
       "    <tr>\n",
       "      <th>0</th>\n",
       "      <td>Anchorage, AK</td>\n",
       "      <td>1,087,624</td>\n",
       "      <td>871,795</td>\n",
       "      <td>80%</td>\n",
       "    </tr>\n",
       "    <tr>\n",
       "      <th>1</th>\n",
       "      <td>Fremont, CA</td>\n",
       "      <td>49,927</td>\n",
       "      <td>21,957</td>\n",
       "      <td>44%</td>\n",
       "    </tr>\n",
       "    <tr>\n",
       "      <th>2</th>\n",
       "      <td>Chesapeake, VA</td>\n",
       "      <td>216,010</td>\n",
       "      <td>58,693</td>\n",
       "      <td>27%</td>\n",
       "    </tr>\n",
       "    <tr>\n",
       "      <th>3</th>\n",
       "      <td>Scottsdale, AZ</td>\n",
       "      <td>117,587</td>\n",
       "      <td>31,598</td>\n",
       "      <td>27%</td>\n",
       "    </tr>\n",
       "    <tr>\n",
       "      <th>4</th>\n",
       "      <td>Irvine, CA</td>\n",
       "      <td>41,991</td>\n",
       "      <td>11,008</td>\n",
       "      <td>26%</td>\n",
       "    </tr>\n",
       "  </tbody>\n",
       "</table>\n",
       "</div>"
      ],
      "text/plain": [
       "             City City Adj. Land Area Park Acres  % of City Area\n",
       "0   Anchorage, AK           1,087,624     871,795            80%\n",
       "1     Fremont, CA              49,927      21,957            44%\n",
       "2  Chesapeake, VA             216,010      58,693            27%\n",
       "3  Scottsdale, AZ             117,587      31,598            27%\n",
       "4      Irvine, CA              41,991      11,008            26%"
      ]
     },
     "execution_count": 3,
     "metadata": {},
     "output_type": "execute_result"
    }
   ],
   "source": [
    "#import data for 2017 parks\n",
    "park_data_csv = pd.read_csv('city_park_data\\\\Acreage_Table.csv', sep = '\\t', encoding='UTF-16')\n",
    "park_data_csv.head()"
   ]
  },
  {
   "cell_type": "code",
   "execution_count": 4,
   "metadata": {},
   "outputs": [
    {
     "name": "stderr",
     "output_type": "stream",
     "text": [
      "C:\\Users\\noahs\\AppData\\Local\\Temp\\ipykernel_20824\\3891959973.py:3: SettingWithCopyWarning: \n",
      "A value is trying to be set on a copy of a slice from a DataFrame\n",
      "\n",
      "See the caveats in the documentation: https://pandas.pydata.org/pandas-docs/stable/user_guide/indexing.html#returning-a-view-versus-a-copy\n",
      "  park_data_df.rename(columns={'City':'CityState', 'Park Acres ':'park_acres', '% of City Area': 'percent_of_city_area'}, inplace=True)\n"
     ]
    },
    {
     "data": {
      "text/html": [
       "<div>\n",
       "<style scoped>\n",
       "    .dataframe tbody tr th:only-of-type {\n",
       "        vertical-align: middle;\n",
       "    }\n",
       "\n",
       "    .dataframe tbody tr th {\n",
       "        vertical-align: top;\n",
       "    }\n",
       "\n",
       "    .dataframe thead th {\n",
       "        text-align: right;\n",
       "    }\n",
       "</style>\n",
       "<table border=\"1\" class=\"dataframe\">\n",
       "  <thead>\n",
       "    <tr style=\"text-align: right;\">\n",
       "      <th></th>\n",
       "      <th>CityState</th>\n",
       "      <th>park_acres</th>\n",
       "      <th>percent_of_city_area</th>\n",
       "    </tr>\n",
       "  </thead>\n",
       "  <tbody>\n",
       "    <tr>\n",
       "      <th>0</th>\n",
       "      <td>Anchorage, AK</td>\n",
       "      <td>871,795</td>\n",
       "      <td>80%</td>\n",
       "    </tr>\n",
       "    <tr>\n",
       "      <th>1</th>\n",
       "      <td>Fremont, CA</td>\n",
       "      <td>21,957</td>\n",
       "      <td>44%</td>\n",
       "    </tr>\n",
       "    <tr>\n",
       "      <th>2</th>\n",
       "      <td>Chesapeake, VA</td>\n",
       "      <td>58,693</td>\n",
       "      <td>27%</td>\n",
       "    </tr>\n",
       "    <tr>\n",
       "      <th>3</th>\n",
       "      <td>Scottsdale, AZ</td>\n",
       "      <td>31,598</td>\n",
       "      <td>27%</td>\n",
       "    </tr>\n",
       "    <tr>\n",
       "      <th>4</th>\n",
       "      <td>Irvine, CA</td>\n",
       "      <td>11,008</td>\n",
       "      <td>26%</td>\n",
       "    </tr>\n",
       "    <tr>\n",
       "      <th>...</th>\n",
       "      <td>...</td>\n",
       "      <td>...</td>\n",
       "      <td>...</td>\n",
       "    </tr>\n",
       "    <tr>\n",
       "      <th>95</th>\n",
       "      <td>Mesa, AZ</td>\n",
       "      <td>2,470</td>\n",
       "      <td>3%</td>\n",
       "    </tr>\n",
       "    <tr>\n",
       "      <th>96</th>\n",
       "      <td>Baton Rouge, LA</td>\n",
       "      <td>1,455</td>\n",
       "      <td>3%</td>\n",
       "    </tr>\n",
       "    <tr>\n",
       "      <th>97</th>\n",
       "      <td>Lubbock, TX</td>\n",
       "      <td>2,228</td>\n",
       "      <td>3%</td>\n",
       "    </tr>\n",
       "    <tr>\n",
       "      <th>98</th>\n",
       "      <td>Lexington/Fayette, KY</td>\n",
       "      <td>4,447</td>\n",
       "      <td>2%</td>\n",
       "    </tr>\n",
       "    <tr>\n",
       "      <th>99</th>\n",
       "      <td>Hialeah, FL</td>\n",
       "      <td>238</td>\n",
       "      <td>2%</td>\n",
       "    </tr>\n",
       "  </tbody>\n",
       "</table>\n",
       "<p>100 rows × 3 columns</p>\n",
       "</div>"
      ],
      "text/plain": [
       "                CityState park_acres percent_of_city_area\n",
       "0           Anchorage, AK    871,795                  80%\n",
       "1             Fremont, CA     21,957                  44%\n",
       "2          Chesapeake, VA     58,693                  27%\n",
       "3          Scottsdale, AZ     31,598                  27%\n",
       "4              Irvine, CA     11,008                  26%\n",
       "..                    ...        ...                  ...\n",
       "95               Mesa, AZ      2,470                   3%\n",
       "96        Baton Rouge, LA      1,455                   3%\n",
       "97            Lubbock, TX      2,228                   3%\n",
       "98  Lexington/Fayette, KY      4,447                   2%\n",
       "99            Hialeah, FL        238                   2%\n",
       "\n",
       "[100 rows x 3 columns]"
      ]
     },
     "execution_count": 4,
     "metadata": {},
     "output_type": "execute_result"
    }
   ],
   "source": [
    "#cleaning down to columns needed\n",
    "park_data_df = park_data_csv[['City', 'Park Acres ', '% of City Area']]\n",
    "park_data_df.rename(columns={'City':'CityState', 'Park Acres ':'park_acres', '% of City Area': 'percent_of_city_area'}, inplace=True)\n",
    "park_data_df"
   ]
  },
  {
   "cell_type": "code",
   "execution_count": 5,
   "metadata": {},
   "outputs": [
    {
     "name": "stdout",
     "output_type": "stream",
     "text": [
      "<class 'pandas.core.frame.DataFrame'>\n",
      "RangeIndex: 100 entries, 0 to 99\n",
      "Data columns (total 3 columns):\n",
      " #   Column                Non-Null Count  Dtype \n",
      "---  ------                --------------  ----- \n",
      " 0   CityState             100 non-null    object\n",
      " 1   park_acres            100 non-null    object\n",
      " 2   percent_of_city_area  100 non-null    object\n",
      "dtypes: object(3)\n",
      "memory usage: 2.5+ KB\n"
     ]
    }
   ],
   "source": [
    "park_data_df.info()"
   ]
  },
  {
   "cell_type": "code",
   "execution_count": 6,
   "metadata": {},
   "outputs": [
    {
     "data": {
      "text/plain": [
       "True"
      ]
     },
     "execution_count": 6,
     "metadata": {},
     "output_type": "execute_result"
    }
   ],
   "source": [
    "#Identifying that the column contains a comma\n",
    "#!!!THIS STEP WILL ERROR BECAUSE IT HAS ALREADY BEEN COMPLETED!!!\n",
    "park_data_df['park_acres'].str.contains(',').any()\n"
   ]
  },
  {
   "cell_type": "code",
   "execution_count": 7,
   "metadata": {},
   "outputs": [
    {
     "name": "stderr",
     "output_type": "stream",
     "text": [
      "C:\\Users\\noahs\\AppData\\Local\\Temp\\ipykernel_20824\\4084628590.py:3: SettingWithCopyWarning: \n",
      "A value is trying to be set on a copy of a slice from a DataFrame.\n",
      "Try using .loc[row_indexer,col_indexer] = value instead\n",
      "\n",
      "See the caveats in the documentation: https://pandas.pydata.org/pandas-docs/stable/user_guide/indexing.html#returning-a-view-versus-a-copy\n",
      "  park_data_df['park_acres'] = park_data_df['park_acres'].str.replace(',', '')\n"
     ]
    }
   ],
   "source": [
    "#Replacing the commas with no values\n",
    "#!!!THIS STEP WILL ERROR BECAUSE IT HAS ALREADY BEEN COMPLETED!!!\n",
    "park_data_df['park_acres'] = park_data_df['park_acres'].str.replace(',', '')"
   ]
  },
  {
   "cell_type": "code",
   "execution_count": 8,
   "metadata": {},
   "outputs": [
    {
     "name": "stderr",
     "output_type": "stream",
     "text": [
      "C:\\Users\\noahs\\AppData\\Local\\Temp\\ipykernel_20824\\3279326740.py:3: SettingWithCopyWarning: \n",
      "A value is trying to be set on a copy of a slice from a DataFrame.\n",
      "Try using .loc[row_indexer,col_indexer] = value instead\n",
      "\n",
      "See the caveats in the documentation: https://pandas.pydata.org/pandas-docs/stable/user_guide/indexing.html#returning-a-view-versus-a-copy\n",
      "  park_data_df['park_acres'] = pd.to_numeric(park_data_df['park_acres'])\n"
     ]
    }
   ],
   "source": [
    "#Converting from object to numeric value \n",
    "#!!!THIS STEP WILL ERROR BECAUSE IT HAS ALREADY BEEN COMPLETED!!!\n",
    "park_data_df['park_acres'] = pd.to_numeric(park_data_df['park_acres'])"
   ]
  },
  {
   "cell_type": "code",
   "execution_count": 9,
   "metadata": {},
   "outputs": [
    {
     "data": {
      "text/plain": [
       "True"
      ]
     },
     "execution_count": 9,
     "metadata": {},
     "output_type": "execute_result"
    }
   ],
   "source": [
    "#Identifying that the column contains a %\n",
    "#!!!THIS STEP WILL ERROR BECAUSE IT HAS ALREADY BEEN COMPLETED!!!\n",
    "park_data_df['percent_of_city_area'].str.contains('%').any()"
   ]
  },
  {
   "cell_type": "code",
   "execution_count": 10,
   "metadata": {},
   "outputs": [
    {
     "name": "stderr",
     "output_type": "stream",
     "text": [
      "C:\\Users\\noahs\\AppData\\Local\\Temp\\ipykernel_20824\\3203682287.py:3: SettingWithCopyWarning: \n",
      "A value is trying to be set on a copy of a slice from a DataFrame.\n",
      "Try using .loc[row_indexer,col_indexer] = value instead\n",
      "\n",
      "See the caveats in the documentation: https://pandas.pydata.org/pandas-docs/stable/user_guide/indexing.html#returning-a-view-versus-a-copy\n",
      "  park_data_df['percent_of_city_area'] = park_data_df['percent_of_city_area'].str.replace('%', '')\n"
     ]
    }
   ],
   "source": [
    "#Replacing the % with no values\n",
    "#!!!THIS STEP WILL ERROR BECAUSE IT HAS ALREADY BEEN COMPLETED!!!\n",
    "park_data_df['percent_of_city_area'] = park_data_df['percent_of_city_area'].str.replace('%', '')"
   ]
  },
  {
   "cell_type": "code",
   "execution_count": 11,
   "metadata": {},
   "outputs": [
    {
     "name": "stderr",
     "output_type": "stream",
     "text": [
      "C:\\Users\\noahs\\AppData\\Local\\Temp\\ipykernel_20824\\803493929.py:3: SettingWithCopyWarning: \n",
      "A value is trying to be set on a copy of a slice from a DataFrame.\n",
      "Try using .loc[row_indexer,col_indexer] = value instead\n",
      "\n",
      "See the caveats in the documentation: https://pandas.pydata.org/pandas-docs/stable/user_guide/indexing.html#returning-a-view-versus-a-copy\n",
      "  park_data_df['percent_of_city_area'] = pd.to_numeric(park_data_df['percent_of_city_area'])\n"
     ]
    }
   ],
   "source": [
    "#Converting from object to numeric value \n",
    "#!!!THIS STEP WILL ERROR BECAUSE IT HAS ALREADY BEEN COMPLETED!!!\n",
    "park_data_df['percent_of_city_area'] = pd.to_numeric(park_data_df['percent_of_city_area'])"
   ]
  },
  {
   "cell_type": "code",
   "execution_count": 12,
   "metadata": {},
   "outputs": [],
   "source": [
    "#Splitting the city and state into seperate columns\n",
    "park_data_df[['city', 'state']] = park_data_df['CityState'].str.split(',', expand=True)\n",
    "\n",
    "#droping the column we split as it is no longer needed\n",
    "park_data_df = park_data_df.drop(columns=['CityState'], inplace=False)"
   ]
  },
  {
   "cell_type": "code",
   "execution_count": 13,
   "metadata": {},
   "outputs": [
    {
     "data": {
      "text/html": [
       "<div>\n",
       "<style scoped>\n",
       "    .dataframe tbody tr th:only-of-type {\n",
       "        vertical-align: middle;\n",
       "    }\n",
       "\n",
       "    .dataframe tbody tr th {\n",
       "        vertical-align: top;\n",
       "    }\n",
       "\n",
       "    .dataframe thead th {\n",
       "        text-align: right;\n",
       "    }\n",
       "</style>\n",
       "<table border=\"1\" class=\"dataframe\">\n",
       "  <thead>\n",
       "    <tr style=\"text-align: right;\">\n",
       "      <th></th>\n",
       "      <th>city</th>\n",
       "      <th>state</th>\n",
       "      <th>park_acres</th>\n",
       "      <th>percent_of_city_area</th>\n",
       "    </tr>\n",
       "  </thead>\n",
       "  <tbody>\n",
       "    <tr>\n",
       "      <th>0</th>\n",
       "      <td>Anchorage</td>\n",
       "      <td>AK</td>\n",
       "      <td>871795</td>\n",
       "      <td>80</td>\n",
       "    </tr>\n",
       "    <tr>\n",
       "      <th>1</th>\n",
       "      <td>Fremont</td>\n",
       "      <td>CA</td>\n",
       "      <td>21957</td>\n",
       "      <td>44</td>\n",
       "    </tr>\n",
       "    <tr>\n",
       "      <th>2</th>\n",
       "      <td>Chesapeake</td>\n",
       "      <td>VA</td>\n",
       "      <td>58693</td>\n",
       "      <td>27</td>\n",
       "    </tr>\n",
       "    <tr>\n",
       "      <th>3</th>\n",
       "      <td>Scottsdale</td>\n",
       "      <td>AZ</td>\n",
       "      <td>31598</td>\n",
       "      <td>27</td>\n",
       "    </tr>\n",
       "    <tr>\n",
       "      <th>4</th>\n",
       "      <td>Irvine</td>\n",
       "      <td>CA</td>\n",
       "      <td>11008</td>\n",
       "      <td>26</td>\n",
       "    </tr>\n",
       "    <tr>\n",
       "      <th>...</th>\n",
       "      <td>...</td>\n",
       "      <td>...</td>\n",
       "      <td>...</td>\n",
       "      <td>...</td>\n",
       "    </tr>\n",
       "    <tr>\n",
       "      <th>95</th>\n",
       "      <td>Mesa</td>\n",
       "      <td>AZ</td>\n",
       "      <td>2470</td>\n",
       "      <td>3</td>\n",
       "    </tr>\n",
       "    <tr>\n",
       "      <th>96</th>\n",
       "      <td>Baton Rouge</td>\n",
       "      <td>LA</td>\n",
       "      <td>1455</td>\n",
       "      <td>3</td>\n",
       "    </tr>\n",
       "    <tr>\n",
       "      <th>97</th>\n",
       "      <td>Lubbock</td>\n",
       "      <td>TX</td>\n",
       "      <td>2228</td>\n",
       "      <td>3</td>\n",
       "    </tr>\n",
       "    <tr>\n",
       "      <th>98</th>\n",
       "      <td>Lexington/Fayette</td>\n",
       "      <td>KY</td>\n",
       "      <td>4447</td>\n",
       "      <td>2</td>\n",
       "    </tr>\n",
       "    <tr>\n",
       "      <th>99</th>\n",
       "      <td>Hialeah</td>\n",
       "      <td>FL</td>\n",
       "      <td>238</td>\n",
       "      <td>2</td>\n",
       "    </tr>\n",
       "  </tbody>\n",
       "</table>\n",
       "<p>100 rows × 4 columns</p>\n",
       "</div>"
      ],
      "text/plain": [
       "                 city state  park_acres  percent_of_city_area\n",
       "0           Anchorage    AK      871795                    80\n",
       "1             Fremont    CA       21957                    44\n",
       "2          Chesapeake    VA       58693                    27\n",
       "3          Scottsdale    AZ       31598                    27\n",
       "4              Irvine    CA       11008                    26\n",
       "..                ...   ...         ...                   ...\n",
       "95               Mesa    AZ        2470                     3\n",
       "96        Baton Rouge    LA        1455                     3\n",
       "97            Lubbock    TX        2228                     3\n",
       "98  Lexington/Fayette    KY        4447                     2\n",
       "99            Hialeah    FL         238                     2\n",
       "\n",
       "[100 rows x 4 columns]"
      ]
     },
     "execution_count": 13,
     "metadata": {},
     "output_type": "execute_result"
    }
   ],
   "source": [
    "#rearranging the table so that city and state come first\n",
    "park_data_df =  park_data_df[['city', 'state', 'park_acres', 'percent_of_city_area']]\n",
    "park_data_df"
   ]
  },
  {
   "cell_type": "code",
   "execution_count": 14,
   "metadata": {},
   "outputs": [
    {
     "data": {
      "text/plain": [
       "True"
      ]
     },
     "execution_count": 14,
     "metadata": {},
     "output_type": "execute_result"
    }
   ],
   "source": [
    "#Identifying that there is a space before each state abbr.\n",
    "park_data_df['state'].str.contains(' ').any()"
   ]
  },
  {
   "cell_type": "code",
   "execution_count": 16,
   "metadata": {},
   "outputs": [],
   "source": [
    "#Removing the space in front of the state column entry data\n",
    "park_data_df['state'] = park_data_df['state'].str.replace(' ', '')"
   ]
  },
  {
   "cell_type": "code",
   "execution_count": 17,
   "metadata": {},
   "outputs": [],
   "source": [
    "#export tables to csv files for SQL\n",
    "park_data_df.to_csv('csv_outputs//park_data.csv', index=False)"
   ]
  }
 ],
 "metadata": {
  "kernelspec": {
   "display_name": "dev",
   "language": "python",
   "name": "python3"
  },
  "language_info": {
   "codemirror_mode": {
    "name": "ipython",
    "version": 3
   },
   "file_extension": ".py",
   "mimetype": "text/x-python",
   "name": "python",
   "nbconvert_exporter": "python",
   "pygments_lexer": "ipython3",
   "version": "3.10.12"
  }
 },
 "nbformat": 4,
 "nbformat_minor": 2
}
